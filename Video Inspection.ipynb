{
 "cells": [
  {
   "cell_type": "code",
   "execution_count": 5,
   "metadata": {},
   "outputs": [],
   "source": [
    "import cv2\n",
    "import numpy as np"
   ]
  },
  {
   "cell_type": "code",
   "execution_count": 2,
   "metadata": {},
   "outputs": [],
   "source": [
    "def setup_video(video_path, duration):\n",
    "    cap = cv2.VideoCapture(video_path)\n",
    "    fps = int(cap.get(cv2.CAP_PROP_FPS))\n",
    "    num_frames = int(duration * fps)\n",
    "    frames = [None] * num_frames\n",
    "    \n",
    "    for i in range(num_frames):\n",
    "        ret, frame = cap.read()\n",
    "        if not ret:\n",
    "            break\n",
    "        frames[i] = frame\n",
    "    \n",
    "    cap.release()\n",
    "    return frames, fps"
   ]
  },
  {
   "cell_type": "code",
   "execution_count": 3,
   "metadata": {},
   "outputs": [],
   "source": [
    "def process_frame(frame):\n",
    "    gray = cv2.cvtColor(frame, cv2.COLOR_BGR2GRAY)\n",
    "    blur = cv2.GaussianBlur(gray, (5, 5), cv2.BORDER_DEFAULT)\n",
    "    _, thresh = cv2.threshold(blur,220, 255, cv2.THRESH_BINARY)\n",
    "    contours, _ = cv2.findContours(thresh, cv2.RETR_TREE, cv2.CHAIN_APPROX_SIMPLE)\n",
    "    \n",
    "    midpoints = []\n",
    "    for cnt in contours:\n",
    "        M = cv2.moments(cnt)\n",
    "        if M['m00'] != 0:\n",
    "            cx, cy = int(M['m10'] / M['m00']), int(M['m01'] / M['m00'])\n",
    "            cv2.drawContours(frame, [cnt], -1, (0, 255, 0), 2)\n",
    "            cv2.circle(frame, (cx, cy), 2, (0, 0, 255), -1)\n",
    "            midpoints.append((cx, cy))\n",
    "    return midpoints"
   ]
  },
  {
   "cell_type": "code",
   "execution_count": 4,
   "metadata": {},
   "outputs": [],
   "source": [
    "# Setup\n",
    "name = input(\"Enter name: \")\n",
    "plane = input(\"Enter plane(r for right, l for left): \")\n",
    "video_path = rf\"E:\\Gait Analysis NMH\\Video\\{name.capitalize()}{plane.capitalize()}.mp4\"\n",
    "user_input = input(\"Press 'a' for simpler method or 'b' for exceptional method: \")\n",
    "frames, fps = setup_video(video_path, 30)\n",
    "\n",
    "frame_index = 1\n",
    "while frame_index < len(frames):\n",
    "    frame = frames[frame_index].copy()\n",
    "    midpoints = process_frame(frame)\n",
    "    \n",
    "    # Sort midpoints\n",
    "    sorted_y = sorted(midpoints, key=lambda x: x[1])\n",
    "    if user_input == 'a':\n",
    "        last_two = sorted_y[-2:]\n",
    "        if plane == 'l':\n",
    "            sorted_x = sorted(last_two, reverse=True, key=lambda x: x[0])\n",
    "        elif plane == 'r':\n",
    "            sorted_x = sorted(last_two, key=lambda x: x[0])\n",
    "        final_points = sorted_y[:-2] + sorted_x\n",
    "    elif user_input == 'b':\n",
    "        final_points = sorted_y[:-2] + sorted_y[-2:]\n",
    "\n",
    "    # Process frame if enough points\n",
    "    if len(final_points) == 5:\n",
    "        slopes = [(final_points[i + 1][1] - final_points[i][1]) / (final_points[i + 1][0] - final_points[i][0]) \n",
    "                  if final_points[i + 1][0] != final_points[i][0] else np.inf \n",
    "                  for i in range(4)]\n",
    "        for i in range(4):\n",
    "            cv2.line(frame, final_points[i], final_points[i + 1], (0, 0, 255), 2)\n",
    "    else:\n",
    "        cv2.putText(frame, \"Insufficient points detected\", (30, 70), \n",
    "                   cv2.FONT_HERSHEY_SIMPLEX, 0.8, (0, 0, 255), 1)\n",
    "\n",
    "    # Display frame number\n",
    "    cv2.putText(frame, f\"Frame: {frame_index}\", (50, 50), cv2.FONT_HERSHEY_SIMPLEX, 0.8, (255, 255, 255), 1)\n",
    "    cv2.imshow('Frame', frame)\n",
    "\n",
    "    # Handle key actions\n",
    "    key = cv2.waitKey(0) & 0xFF\n",
    "    if key == ord('q'):\n",
    "        break\n",
    "    elif key == ord('f'):\n",
    "        frame_index = (frame_index + 1) % len(frames)\n",
    "    elif key == ord('b'):\n",
    "        frame_index = (frame_index - 1) % len(frames)\n",
    "\n",
    "cv2.destroyAllWindows()"
   ]
  }
 ],
 "metadata": {
  "kernelspec": {
   "display_name": "Python 3",
   "language": "python",
   "name": "python3"
  },
  "language_info": {
   "codemirror_mode": {
    "name": "ipython",
    "version": 3
   },
   "file_extension": ".py",
   "mimetype": "text/x-python",
   "name": "python",
   "nbconvert_exporter": "python",
   "pygments_lexer": "ipython3",
   "version": "3.12.4"
  }
 },
 "nbformat": 4,
 "nbformat_minor": 2
}
